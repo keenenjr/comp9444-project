{
 "cells": [
  {
   "cell_type": "markdown",
   "metadata": {},
   "source": [
    "# CNNs for Traffic Sign Recognition"
   ]
  },
  {
   "cell_type": "markdown",
   "metadata": {},
   "source": [
    "### Problem Statement"
   ]
  },
  {
   "cell_type": "markdown",
   "metadata": {},
   "source": [
    "In a society driven by technological advancements, there is an ever-present need for improved Artificial Intelligence (AI) models to efficiently and accurately classify images. The transport industry is situated at the foreground of the AI revolution, with autonomous vehicles offering the most potential to prelude a future where intelligent transport systems redefine the way we travel. Within this domain, accurately recognising traffic signs in real-time is an essential part of designing safe and efficient autonomous vehicles for commercial use.\n",
    "\n",
    "Our project aspires to redefine the field of traffic sign recognition by developing a highly accurate Convolutional Neural Network (CNN) model that satisfies the requirements of safety, reliability and efficiency. We will leverage the German Traffic Sign Recognition Benchmark dataset (GTSRB) to form a cutting-edge solution capable of identifying and deciphering German traffic signs across a range of circumstances, using over 50,000 images partitioned into 40 classes.\n",
    "\n",
    "To ensure that our model is adaptable and capable of generalising to real-world scenarios, we intend to use various techniques such as data augmentation to promote diversity within our dataset. Additionally, hyperparameter tuning and advanced training strategies will be harnessed to improve the overall accuracy of the network. Furthermore, we will trial a range of model architectures and conduct thorough experimentation, validation and analyses to attain our goal of building a single expert system capable of fulfilling our objectives.\n",
    "\n",
    "Accurate traffic sign recognition has various real-world applications in autonomous driving, with the potential of creating safer and more efficient roadways. Autonomous vehicles must reflect precision and reliability when navigating public roads, with traffic sign recognition being used to make crucial decisions in real-time that can affect the safety of passengers and other road users. Our project aims to meet develop a state of the art system that prioritises these features, whilst playing a pivotal role in catalysing autonomous vehicle technologies."
   ]
  },
  {
   "cell_type": "markdown",
   "metadata": {},
   "source": [
    "### Data Sources"
   ]
  },
  {
   "cell_type": "markdown",
   "metadata": {},
   "source": []
  },
  {
   "cell_type": "markdown",
   "metadata": {},
   "source": []
  },
  {
   "cell_type": "code",
   "execution_count": null,
   "metadata": {},
   "outputs": [],
   "source": []
  }
 ],
 "metadata": {
  "kernelspec": {
   "display_name": "Python 3",
   "language": "python",
   "name": "python3"
  },
  "language_info": {
   "name": "python",
   "version": "3.11.5"
  }
 },
 "nbformat": 4,
 "nbformat_minor": 2
}
