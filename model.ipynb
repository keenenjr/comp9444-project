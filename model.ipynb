{
 "cells": [
  {
   "cell_type": "markdown",
   "metadata": {},
   "source": [
    "# Traffic Signs Recognition using CNN"
   ]
  },
  {
   "cell_type": "code",
   "execution_count": 13,
   "metadata": {},
   "outputs": [],
   "source": [
    "import numpy as np \n",
    "import pandas as pd \n",
    "import matplotlib.pyplot as plt\n",
    "import os\n",
    "import cv2\n",
    "import tensorflow as tf\n",
    "import random\n",
    "from sklearn.model_selection import train_test_split\n",
    "from keras.utils import to_categorical\n",
    "# from keras.models import Sequential, load_model\n",
    "# from keras.layers import Conv2D, MaxPool2D, Dense, Flatten, Dropout\n",
    "from keras import layers, models\n",
    "from keras.optimizers import Adam\n",
    "from sklearn.metrics import classification_report,confusion_matrix,accuracy_score\n",
    "from china.china_dataset_reader import load_traffic_sign_dataset\n",
    "from india.india_dataset_reader import load_india_dataset\n"
   ]
  },
  {
   "cell_type": "markdown",
   "metadata": {},
   "source": [
    "code reference:\n",
    "\n",
    "https://github.com/deepak2233/Traffic-Signs-Recognition-using-CNN-Keras/blob/main/Model/Traffic%20Signs%20Recognition%20using%20CNN%20%26%20Keras%20with%2098%25%20Accuracy.ipynb\n",
    "\n",
    "https://www.kaggle.com/code/osamaabidoo/98-accuracy-on-german-traffic-sign-recognition"
   ]
  },
  {
   "cell_type": "markdown",
   "metadata": {},
   "source": [
    "## GTSRB Dataset Overview"
   ]
  },
  {
   "cell_type": "code",
   "execution_count": 14,
   "metadata": {},
   "outputs": [
    {
     "data": {
      "text/html": [
       "<div>\n",
       "<style scoped>\n",
       "    .dataframe tbody tr th:only-of-type {\n",
       "        vertical-align: middle;\n",
       "    }\n",
       "\n",
       "    .dataframe tbody tr th {\n",
       "        vertical-align: top;\n",
       "    }\n",
       "\n",
       "    .dataframe thead th {\n",
       "        text-align: right;\n",
       "    }\n",
       "</style>\n",
       "<table border=\"1\" class=\"dataframe\">\n",
       "  <thead>\n",
       "    <tr style=\"text-align: right;\">\n",
       "      <th></th>\n",
       "      <th>Width</th>\n",
       "      <th>Height</th>\n",
       "      <th>ClassId</th>\n",
       "      <th>Path</th>\n",
       "    </tr>\n",
       "  </thead>\n",
       "  <tbody>\n",
       "    <tr>\n",
       "      <th>0</th>\n",
       "      <td>27</td>\n",
       "      <td>26</td>\n",
       "      <td>20</td>\n",
       "      <td>Train/20/00020_00000_00000.png</td>\n",
       "    </tr>\n",
       "    <tr>\n",
       "      <th>1</th>\n",
       "      <td>28</td>\n",
       "      <td>27</td>\n",
       "      <td>20</td>\n",
       "      <td>Train/20/00020_00000_00001.png</td>\n",
       "    </tr>\n",
       "    <tr>\n",
       "      <th>2</th>\n",
       "      <td>29</td>\n",
       "      <td>26</td>\n",
       "      <td>20</td>\n",
       "      <td>Train/20/00020_00000_00002.png</td>\n",
       "    </tr>\n",
       "    <tr>\n",
       "      <th>3</th>\n",
       "      <td>28</td>\n",
       "      <td>27</td>\n",
       "      <td>20</td>\n",
       "      <td>Train/20/00020_00000_00003.png</td>\n",
       "    </tr>\n",
       "    <tr>\n",
       "      <th>4</th>\n",
       "      <td>28</td>\n",
       "      <td>26</td>\n",
       "      <td>20</td>\n",
       "      <td>Train/20/00020_00000_00004.png</td>\n",
       "    </tr>\n",
       "  </tbody>\n",
       "</table>\n",
       "</div>"
      ],
      "text/plain": [
       "   Width  Height  ClassId                            Path\n",
       "0     27      26       20  Train/20/00020_00000_00000.png\n",
       "1     28      27       20  Train/20/00020_00000_00001.png\n",
       "2     29      26       20  Train/20/00020_00000_00002.png\n",
       "3     28      27       20  Train/20/00020_00000_00003.png\n",
       "4     28      26       20  Train/20/00020_00000_00004.png"
      ]
     },
     "execution_count": 14,
     "metadata": {},
     "output_type": "execute_result"
    }
   ],
   "source": [
    "# Train.csv\n",
    "train_csv_path = os.getcwd() + \"\\dataset\\Train.csv\"\n",
    "train_df = pd.read_csv(train_csv_path, usecols=['ClassId', 'Path', 'Width', 'Height'])\n",
    "train_df.head()"
   ]
  },
  {
   "cell_type": "code",
   "execution_count": 15,
   "metadata": {},
   "outputs": [
    {
     "data": {
      "text/html": [
       "<div>\n",
       "<style scoped>\n",
       "    .dataframe tbody tr th:only-of-type {\n",
       "        vertical-align: middle;\n",
       "    }\n",
       "\n",
       "    .dataframe tbody tr th {\n",
       "        vertical-align: top;\n",
       "    }\n",
       "\n",
       "    .dataframe thead th {\n",
       "        text-align: right;\n",
       "    }\n",
       "</style>\n",
       "<table border=\"1\" class=\"dataframe\">\n",
       "  <thead>\n",
       "    <tr style=\"text-align: right;\">\n",
       "      <th></th>\n",
       "      <th>Width</th>\n",
       "      <th>Height</th>\n",
       "      <th>ClassId</th>\n",
       "      <th>Path</th>\n",
       "    </tr>\n",
       "  </thead>\n",
       "  <tbody>\n",
       "    <tr>\n",
       "      <th>0</th>\n",
       "      <td>53</td>\n",
       "      <td>54</td>\n",
       "      <td>16</td>\n",
       "      <td>Test/00000.png</td>\n",
       "    </tr>\n",
       "    <tr>\n",
       "      <th>1</th>\n",
       "      <td>42</td>\n",
       "      <td>45</td>\n",
       "      <td>1</td>\n",
       "      <td>Test/00001.png</td>\n",
       "    </tr>\n",
       "    <tr>\n",
       "      <th>2</th>\n",
       "      <td>48</td>\n",
       "      <td>52</td>\n",
       "      <td>38</td>\n",
       "      <td>Test/00002.png</td>\n",
       "    </tr>\n",
       "    <tr>\n",
       "      <th>3</th>\n",
       "      <td>27</td>\n",
       "      <td>29</td>\n",
       "      <td>33</td>\n",
       "      <td>Test/00003.png</td>\n",
       "    </tr>\n",
       "    <tr>\n",
       "      <th>4</th>\n",
       "      <td>60</td>\n",
       "      <td>57</td>\n",
       "      <td>11</td>\n",
       "      <td>Test/00004.png</td>\n",
       "    </tr>\n",
       "  </tbody>\n",
       "</table>\n",
       "</div>"
      ],
      "text/plain": [
       "   Width  Height  ClassId            Path\n",
       "0     53      54       16  Test/00000.png\n",
       "1     42      45        1  Test/00001.png\n",
       "2     48      52       38  Test/00002.png\n",
       "3     27      29       33  Test/00003.png\n",
       "4     60      57       11  Test/00004.png"
      ]
     },
     "execution_count": 15,
     "metadata": {},
     "output_type": "execute_result"
    }
   ],
   "source": [
    "# Test.csv\n",
    "test_csv_path = os.getcwd() + \"\\dataset\\Test.csv\"\n",
    "test_df = pd.read_csv(test_csv_path, usecols=['ClassId', 'Path', 'Width', 'Height'])\n",
    "test_df.head()"
   ]
  },
  {
   "cell_type": "code",
   "execution_count": 16,
   "metadata": {},
   "outputs": [],
   "source": [
    "# GTSRB Label Overview (from Kaggle)\n",
    "GTSRB_classes = { 0:'Speed limit (20km/h)',\n",
    "            1:'Speed limit (30km/h)', \n",
    "            2:'Speed limit (50km/h)', \n",
    "            3:'Speed limit (60km/h)', \n",
    "            4:'Speed limit (70km/h)', \n",
    "            5:'Speed limit (80km/h)', \n",
    "            6:'End of speed limit (80km/h)', \n",
    "            7:'Speed limit (100km/h)', \n",
    "            8:'Speed limit (120km/h)', \n",
    "            9:'No passing', \n",
    "            10:'No passing veh over 3.5 tons', \n",
    "            11:'Right-of-way at intersection', \n",
    "            12:'Priority road', \n",
    "            13:'Yield', \n",
    "            14:'Stop', \n",
    "            15:'No vehicles', \n",
    "            16:'Veh > 3.5 tons prohibited', \n",
    "            17:'No entry', \n",
    "            18:'General caution', \n",
    "            19:'Dangerous curve left', \n",
    "            20:'Dangerous curve right', \n",
    "            21:'Double curve', \n",
    "            22:'Bumpy road', \n",
    "            23:'Slippery road', \n",
    "            24:'Road narrows on the right', \n",
    "            25:'Road work', \n",
    "            26:'Traffic signals', \n",
    "            27:'Pedestrians', \n",
    "            28:'Children crossing', \n",
    "            29:'Bicycles crossing', \n",
    "            30:'Beware of ice/snow',\n",
    "            31:'Wild animals crossing', \n",
    "            32:'End speed + passing limits', \n",
    "            33:'Turn right ahead', \n",
    "            34:'Turn left ahead', \n",
    "            35:'Ahead only', \n",
    "            36:'Go straight or right', \n",
    "            37:'Go straight or left', \n",
    "            38:'Keep right', \n",
    "            39:'Keep left', \n",
    "            40:'Roundabout mandatory', \n",
    "            41:'End of no passing', \n",
    "            42:'End no passing veh > 3.5 tons' }"
   ]
  },
  {
   "cell_type": "markdown",
   "metadata": {},
   "source": [
    "## Load the GTSRB\n"
   ]
  },
  {
   "cell_type": "code",
   "execution_count": 17,
   "metadata": {},
   "outputs": [
    {
     "name": "stdout",
     "output_type": "stream",
     "text": [
      "(39209, 30, 30, 3) (39209,)\n"
     ]
    }
   ],
   "source": [
    "train_data = [] # X_train\n",
    "train_labels = [] # X_test\n",
    "classes = 43\n",
    "train_path = os.getcwd() + \"\\dataset\\Train\"\n",
    "\n",
    "for i in os.listdir(train_path):\n",
    "    dir = train_path + '/' + i\n",
    "    if os.path.isdir(dir):\n",
    "        for j in os.listdir(dir):\n",
    "            try:\n",
    "                img_path = dir+ '/' +j\n",
    "                img = cv2.imread(img_path,-1)\n",
    "                # resize all images to 30,30\n",
    "                img = cv2.resize(img, (30,30), interpolation = cv2.INTER_NEAREST)\n",
    "                train_data.append(img)\n",
    "                train_labels.append(i)\n",
    "            except Exception as e:\n",
    "                print(e)    \n",
    "train_data = np.array(train_data)\n",
    "train_labels = np.array(train_labels)\n",
    "print(train_data.shape, train_labels.shape)"
   ]
  },
  {
   "cell_type": "code",
   "execution_count": 18,
   "metadata": {},
   "outputs": [
    {
     "name": "stdout",
     "output_type": "stream",
     "text": [
      "(12630, 30, 30, 3) (12630,)\n"
     ]
    }
   ],
   "source": [
    "test_data = [] # y_train\n",
    "test_labels = [] # y_test\n",
    "test_path = os.getcwd() + \"\\dataset\\Test\"\n",
    "\n",
    "for index, row in test_df.iterrows():\n",
    "    img_path = os.getcwd() + \"\\dataset/\" + row['Path']\n",
    "    img = cv2.imread(img_path, -1)\n",
    "    img = cv2.resize(img, (30,30), interpolation=cv2.INTER_NEAREST)\n",
    "    test_data.append(img)\n",
    "    test_labels.append(row['ClassId'])\n",
    "\n",
    "test_data = np.array(test_data)\n",
    "test_labels = np.array(test_labels)\n",
    "print(test_data.shape, test_labels.shape)"
   ]
  },
  {
   "cell_type": "markdown",
   "metadata": {},
   "source": [
    "## Visualize Train Data in GTSRB"
   ]
  },
  {
   "cell_type": "code",
   "execution_count": 19,
   "metadata": {},
   "outputs": [
    {
     "data": {
      "image/png": "[encoded data removed]",
      "text/plain": [
       "<Figure size 1000x1000 with 25 Axes>"
      ]
     },
     "metadata": {},
     "output_type": "display_data"
    }
   ],
   "source": [
    "random_indices = random.sample(range(len(train_data)), 25)\n",
    "# randomly plot 25 images from train_data[]\n",
    "fig, axs = plt.subplots(5, 5, figsize=(10, 10))\n",
    "for i in range(5):\n",
    "    for j in range(5):\n",
    "        index = random_indices[i * 5 + j]\n",
    "        # Display the image\n",
    "        axs[i, j].imshow(train_data[index])\n",
    "        axs[i, j].axis('off')\n",
    "        # Display the corresponding label\n",
    "        axs[i, j].set_title(f\"Label: {train_labels[index]}\")\n",
    "plt.tight_layout()\n",
    "plt.show()\n"
   ]
  },
  {
   "cell_type": "markdown",
   "metadata": {},
   "source": [
    "## Load Chinese Traffic Sign Dataset"
   ]
  },
  {
   "cell_type": "code",
   "execution_count": 20,
   "metadata": {},
   "outputs": [
    {
     "name": "stdout",
     "output_type": "stream",
     "text": [
      "CSV Path: c:\\Users\\anson\\23T2\\cs9444\\comp9444-project\\china\\annotations.csv\n",
      "(6164, 30, 30, 3) (6164,)\n"
     ]
    }
   ],
   "source": [
    "china_images, china_categories = load_traffic_sign_dataset()\n",
    "print(china_images.shape, china_categories.shape)"
   ]
  },
  {
   "cell_type": "markdown",
   "metadata": {},
   "source": [
    "## Data augmentation functions"
   ]
  },
  {
   "cell_type": "code",
   "execution_count": 21,
   "metadata": {},
   "outputs": [
    {
     "name": "stdout",
     "output_type": "stream",
     "text": [
      "(18492, 30, 30, 3) (18492,)\n"
     ]
    }
   ],
   "source": [
    "# rotates each image by -10 degrees (left) and 10 degrees (right) and then concatenates \n",
    "# the original and augmented datasets along with their corresponding labels. \n",
    "def rotate_augmentation(images, labels):\n",
    "    augmented_data = []\n",
    "    augmented_labels = []\n",
    "\n",
    "    for img, label in zip(images, labels):\n",
    "        # Rotate left\n",
    "        rotated_left = rotate_image(img, angle=-10)\n",
    "        augmented_data.append(rotated_left)\n",
    "        augmented_labels.append(label)\n",
    "\n",
    "        # Rotate right\n",
    "        rotated_right = rotate_image(img, angle=10)\n",
    "        augmented_data.append(rotated_right)\n",
    "        augmented_labels.append(label)\n",
    "\n",
    "    augmented_data = np.concatenate([images, augmented_data])\n",
    "    augmented_labels = np.concatenate([labels, augmented_labels])\n",
    "\n",
    "    return augmented_data, augmented_labels\n",
    "\n",
    "def rotate_image(image, angle):\n",
    "    center = tuple(np.array(image.shape[1::-1]) / 2)\n",
    "    rot_mat = cv2.getRotationMatrix2D(center, angle, 1.0)\n",
    "    rotated_image = cv2.warpAffine(image, rot_mat, image.shape[1::-1], flags=cv2.INTER_NEAREST)\n",
    "    return rotated_image\n",
    "\n",
    "china_images, china_categories= rotate_augmentation(china_images, china_categories)\n",
    "print(china_images.shape, china_categories.shape)"
   ]
  },
  {
   "cell_type": "code",
   "execution_count": 22,
   "metadata": {},
   "outputs": [
    {
     "name": "stdout",
     "output_type": "stream",
     "text": [
      "(36984, 30, 30, 3) (36984,)\n"
     ]
    }
   ],
   "source": [
    "# applies random zooming (by 0.15) or width shifting (by 0.1) or height shifting (by 0.1) to each image and then concatenates \n",
    "# the original and augmented datasets along with their corresponding labels. \n",
    "def random_zoom_or_shift(images, labels):\n",
    "    augmented_data = []\n",
    "    augmented_labels = []\n",
    "\n",
    "    for img, label in zip(images, labels):\n",
    "        # Randomly choose augmentations types\n",
    "        num_augmentations = np.random.randint(1, 4)  # Choose between 1 to 3 augmentations\n",
    "        augmentation_types = np.random.choice(['zoom', 'width_shift', 'height_shift'], size=num_augmentations, replace=True)\n",
    "        augmented_img = img.copy()\n",
    "        for augmentation_type in augmentation_types:\n",
    "            if augmentation_type == 'zoom':\n",
    "                zoom_factor = np.random.uniform(1 - 0.15, 1 + 0.15)\n",
    "                augmented_img = zoom_image(augmented_img, zoom_factor)\n",
    "            elif augmentation_type == 'width_shift':\n",
    "                width_shift_factor = np.random.uniform(-0.1, 0.1)\n",
    "                augmented_img = shift_width(augmented_img, width_shift_factor)\n",
    "            elif augmentation_type == 'height_shift':\n",
    "                height_shift_factor = np.random.uniform(-0.1, 0.1)\n",
    "                augmented_img = shift_height(augmented_img, height_shift_factor)\n",
    "        augmented_img = cv2.resize(augmented_img, (30, 30), interpolation=cv2.INTER_NEAREST)\n",
    "        augmented_data.append(augmented_img)\n",
    "        augmented_labels.append(label)       \n",
    "\n",
    "    augmented_data = np.concatenate([images, augmented_data])\n",
    "    augmented_labels = np.concatenate([labels, augmented_labels])\n",
    "\n",
    "    return augmented_data, augmented_labels\n",
    "\n",
    "def zoom_image(image, factor):\n",
    "    height, width = image.shape[:2]\n",
    "    new_height, new_width = int(height * factor), int(width * factor)\n",
    "    zoomed_image = cv2.resize(image, (new_width, new_height), interpolation=cv2.INTER_NEAREST)\n",
    "    return zoomed_image\n",
    "\n",
    "def shift_width(image, factor):\n",
    "    height, width = image.shape[:2]\n",
    "    shift_pixels = int(width * factor)\n",
    "    shifted_image = np.roll(image, shift_pixels, axis=1)\n",
    "    return shifted_image\n",
    "\n",
    "def shift_height(image, factor):\n",
    "    height, width = image.shape[:2]\n",
    "    shift_pixels = int(height * factor)\n",
    "    shifted_image = np.roll(image, shift_pixels, axis=0)\n",
    "    return shifted_image\n",
    "\n",
    "\n",
    "china_images, china_categories = random_zoom_or_shift(china_images, china_categories)\n",
    "print(china_images.shape, china_categories.shape)\n"
   ]
  },
  {
   "cell_type": "code",
   "execution_count": 23,
   "metadata": {},
   "outputs": [],
   "source": [
    "def plot_classes_with_images(images, categories, num_classes=5, images_per_row=7):\n",
    "    unique_categories = np.unique(categories)\n",
    "    num_rows = -(-num_classes // images_per_row)  # Ceil division to calculate the number of rows\n",
    "\n",
    "    fig, axes = plt.subplots(num_rows, images_per_row, figsize=(20, num_rows * 4))\n",
    "\n",
    "    for i in range(num_rows):\n",
    "        for j in range(images_per_row):\n",
    "            index = i * images_per_row + j\n",
    "            if index < num_classes:\n",
    "                class_category = unique_categories[index]\n",
    "                class_images = images[categories == class_category]\n",
    "\n",
    "                # Randomly select an image from the class\n",
    "                random_image = random.choice(class_images)\n",
    "\n",
    "                axes[i, j].imshow(random_image)\n",
    "                axes[i, j].set_title(f'Class {class_category}')\n",
    "                axes[i, j].axis('off')\n",
    "            else:\n",
    "                axes[i, j].axis('off')  # Hide empty subplots\n",
    "\n",
    "    plt.show()\n"
   ]
  },
  {
   "cell_type": "code",
   "execution_count": 24,
   "metadata": {},
   "outputs": [],
   "source": [
    "# plot_classes_with_images(china_images, china_categories, 58)"
   ]
  },
  {
   "cell_type": "code",
   "execution_count": 25,
   "metadata": {},
   "outputs": [],
   "source": [
    "# plot_classes_with_images(train_data, train_labels, 43)"
   ]
  },
  {
   "cell_type": "code",
   "execution_count": 26,
   "metadata": {},
   "outputs": [],
   "source": [
    "# manually label the classes in chinese dataset\n",
    "# labelled based on the name on https://en.wikipedia.org/wiki/Road_signs_in_China\n",
    "china_classes = { 0:'Speed limit (5km/h)',\n",
    "                1:'Speed limit (15km/h)', \n",
    "                2:'Speed limit (30km/h)', \n",
    "                3:'Speed limit (40km/h)', \n",
    "                4:'Speed limit (50km/h)', \n",
    "                5:'Speed limit (60km/h)', \n",
    "                6:'Speed limit (70km/h)', \n",
    "                7:'Speed limit (80km/h)', \n",
    "                8:'No proceed straight and left turns', \n",
    "                9:'No proceed straight and right turns', \n",
    "                10:'No proceed straight', \n",
    "                11:'No left turn', \n",
    "                12:'No left and right turns', \n",
    "                13:'No right turn', \n",
    "                14:'No overtaking', \n",
    "                15:'No U-turns', \n",
    "                16:'No motor vehicles', \n",
    "                17:'No honking', \n",
    "                18:'End of speed limit (40km/h)', \n",
    "                19:'End of speed limit (50km/h)', \n",
    "                20:'Go straight or right', \n",
    "                21:'Ahead only', \n",
    "                22:'Turn left ahead', \n",
    "                23:'Go left or right', \n",
    "                24:'Turn right ahead', \n",
    "                25:'Keep left', \n",
    "                26:'Keep right', \n",
    "                27:'Roundabout mandatory', \n",
    "                28:'Lane for automobile', \n",
    "                29:'Honking', \n",
    "                30:'Bicycles only',\n",
    "                31:'U-turn', \n",
    "                32:'Turn left and/or right to detour', \n",
    "                33:'Traffic signals', \n",
    "                34:'General caution', \n",
    "                35:'Pedestrian crossing ahead', \n",
    "                36:'Bicycles crossing', \n",
    "                37:'Children crossing', \n",
    "                38:'Dangerous curve right', \n",
    "                39:'Dangerous curve left', \n",
    "                40:'Steep descent', \n",
    "                41:'Steep ascent', \n",
    "                42:'Tunnel ahead', # not sure\n",
    "                43:'Side road junction ahead on the right',\n",
    "                44:'Side road junction ahead on the left',\n",
    "                45:'Cross-village road',\n",
    "                46:'Double curve, with turn right first, then left', # GTSRB has a general version double curve, should i merge them?\n",
    "                47:'Railroad crossing ahead (without safety barriers)',\n",
    "                48:'Road work',\n",
    "                49:'Multiple curves',\n",
    "                50:'Railroad head (with safety barriers)',\n",
    "                51:'Accident area',\n",
    "                52:'Stop',\n",
    "                53:'No vehicles',\n",
    "                54:'No stopping',\n",
    "                55:'No entry',\n",
    "                56:'Yield',\n",
    "                57:'Control' }"
   ]
  },
  {
   "cell_type": "markdown",
   "metadata": {},
   "source": [
    "## Merge GTRSB and Chinese dataset"
   ]
  },
  {
   "cell_type": "code",
   "execution_count": 27,
   "metadata": {},
   "outputs": [],
   "source": [
    "# helper function to merge two classes dict together\n",
    "def merge_classes(classes1, classes2):\n",
    "    merged_classes = {}\n",
    "    used_values = set()\n",
    "\n",
    "    for key1, value1 in classes1.items():\n",
    "        if value1.lower() not in used_values:\n",
    "            merged_classes[key1] = value1\n",
    "            used_values.add(value1.lower())\n",
    "\n",
    "    for key2, value2 in classes2.items():\n",
    "        if value2.lower() not in used_values:\n",
    "            merged_classes[max(merged_classes.keys()) + 1] = value2\n",
    "            used_values.add(value2.lower())\n",
    "\n",
    "    return merged_classes"
   ]
  },
  {
   "cell_type": "code",
   "execution_count": 28,
   "metadata": {},
   "outputs": [
    {
     "name": "stdout",
     "output_type": "stream",
     "text": [
      "Merged Dataset Shapes:\n",
      "Merged Data Shape: (88823, 30, 30, 3)\n",
      "Merged Labels Shape: (88823,)\n",
      "Class Mapping After Merging:\n",
      "0: Speed limit (20km/h)\n",
      "1: Speed limit (30km/h)\n",
      "2: Speed limit (50km/h)\n",
      "3: Speed limit (60km/h)\n",
      "4: Speed limit (70km/h)\n",
      "5: Speed limit (80km/h)\n",
      "6: End of speed limit (80km/h)\n",
      "7: Speed limit (100km/h)\n",
      "8: Speed limit (120km/h)\n",
      "9: No passing\n",
      "10: No passing veh over 3.5 tons\n",
      "11: Right-of-way at intersection\n",
      "12: Priority road\n",
      "13: Yield\n",
      "14: Stop\n",
      "15: No vehicles\n",
      "16: Veh > 3.5 tons prohibited\n",
      "17: No entry\n",
      "18: General caution\n",
      "19: Dangerous curve left\n",
      "20: Dangerous curve right\n",
      "21: Double curve\n",
      "22: Bumpy road\n",
      "23: Slippery road\n",
      "24: Road narrows on the right\n",
      "25: Road work\n",
      "26: Traffic signals\n",
      "27: Pedestrians\n",
      "28: Children crossing\n",
      "29: Bicycles crossing\n",
      "30: Beware of ice/snow\n",
      "31: Wild animals crossing\n",
      "32: End speed + passing limits\n",
      "33: Turn right ahead\n",
      "34: Turn left ahead\n",
      "35: Ahead only\n",
      "36: Go straight or right\n",
      "37: Go straight or left\n",
      "38: Keep right\n",
      "39: Keep left\n",
      "40: Roundabout mandatory\n",
      "41: End of no passing\n",
      "42: End no passing veh > 3.5 tons\n",
      "43: Speed limit (5km/h)\n",
      "44: Speed limit (15km/h)\n",
      "45: Speed limit (40km/h)\n",
      "46: No proceed straight and left turns\n",
      "47: No proceed straight and right turns\n",
      "48: No proceed straight\n",
      "49: No left turn\n",
      "50: No left and right turns\n",
      "51: No right turn\n",
      "52: No overtaking\n",
      "53: No U-turns\n",
      "54: No motor vehicles\n",
      "55: No honking\n",
      "56: End of speed limit (40km/h)\n",
      "57: End of speed limit (50km/h)\n",
      "58: Go left or right\n",
      "59: Lane for automobile\n",
      "60: Honking\n",
      "61: Bicycles only\n",
      "62: U-turn\n",
      "63: Turn left and/or right to detour\n",
      "64: Pedestrian crossing ahead\n",
      "65: Steep descent\n",
      "66: Steep ascent\n",
      "67: Tunnel ahead\n",
      "68: Side road junction ahead on the right\n",
      "69: Side road junction ahead on the left\n",
      "70: Cross-village road\n",
      "71: Double curve, with turn right first, then left\n",
      "72: Railroad crossing ahead (without safety barriers)\n",
      "73: Multiple curves\n",
      "74: Railroad head (with safety barriers)\n",
      "75: Accident area\n",
      "76: No stopping\n",
      "77: Control\n"
     ]
    }
   ],
   "source": [
    "# function to merge two dataset together \n",
    "def merge_datasets(dataset1_data, dataset1_labels, dataset1_classes, dataset2_data, dataset2_labels, dataset2_classes):\n",
    "    merged_data = []\n",
    "    merged_labels = []\n",
    "    \n",
    "    class_mapping = merge_classes(dataset1_classes, dataset2_classes)\n",
    "    \n",
    "    def find_key_by_value(dict, target_value):\n",
    "        for key, value in dict.items():\n",
    "            if value.lower() == target_value.lower():\n",
    "                return key\n",
    "\n",
    "    # Merge the datasets based on class mapping\n",
    "    for data, label in zip(dataset1_data, dataset1_labels):\n",
    "        value = dataset1_classes.get(int(label))\n",
    "        new_key = find_key_by_value(class_mapping, value)\n",
    "        merged_labels.append(new_key)\n",
    "        merged_data.append(data)\n",
    "\n",
    "    for data, label in zip(dataset2_data, dataset2_labels):\n",
    "        value = dataset2_classes.get(int(label))\n",
    "        new_key = find_key_by_value(class_mapping, value)\n",
    "        merged_labels.append(new_key)\n",
    "        merged_data.append(data)\n",
    "\n",
    "    return np.array(merged_data), np.array(merged_labels), class_mapping\n",
    "\n",
    "\n",
    "# merge GTRSB train and test data back together\n",
    "GTRSB_data = np.concatenate([train_data, test_data], axis=0)\n",
    "GTRSB_labels = np.concatenate([train_labels, test_labels], axis=0)\n",
    "# merge GTRSB and Chinese dataset\n",
    "merged_data, merged_labels, merged_class_mapping = merge_datasets(GTRSB_data, GTRSB_labels, GTSRB_classes, china_images, china_categories, china_classes)\n",
    "print(\"GTRSB Dataset Shapes:\")\n",
    "print(GTRSB_data.shape, GTRSB_labels.shape)\n",
    "print(\"China Dataset Shapes:\")\n",
    "print(china_images.shape, china_categories.shape)\n",
    "# Display the merged dataset shapes\n",
    "print(\"Merged Dataset Shapes:\")\n",
    "print(\"Merged Data Shape:\", merged_data.shape)\n",
    "print(\"Merged Labels Shape:\", merged_labels.shape)\n",
    "\n",
    "# Display the class mapping after merging\n",
    "print(\"Class Mapping After Merging:\")\n",
    "for key, value in merged_class_mapping.items():\n",
    "    print(f\"{key}: {value}\")"
   ]
  },
  {
   "cell_type": "code",
   "execution_count": 29,
   "metadata": {},
   "outputs": [],
   "source": [
    "# plot_classes_with_images(merged_data, merged_labels, 78)"
   ]
  },
  {
   "cell_type": "markdown",
   "metadata": {},
   "source": [
    "## Load the India Dataset "
   ]
  },
  {
   "cell_type": "code",
   "execution_count": 30,
   "metadata": {},
   "outputs": [
    {
     "name": "stdout",
     "output_type": "stream",
     "text": [
      "(10584, 30, 30, 3) (10584,)\n"
     ]
    }
   ],
   "source": [
    "India_train, India_label = load_india_dataset()\n",
    "print(India_train.shape, India_label.shape)"
   ]
  },
  {
   "cell_type": "code",
   "execution_count": 31,
   "metadata": {},
   "outputs": [
    {
     "name": "stdout",
     "output_type": "stream",
     "text": [
      "(63504, 30, 30, 3) (36984,)\n"
     ]
    }
   ],
   "source": [
    "# Increase ths size of the dataset by using data augmentation again like the chinese dataset\n",
    "India_train, India_label= rotate_augmentation(India_train, India_label)\n",
    "India_train, India_label = random_zoom_or_shift(India_train, India_label)\n",
    "print(India_train.shape, India_label.shape)"
   ]
  },
  {
   "cell_type": "code",
   "execution_count": 32,
   "metadata": {},
   "outputs": [],
   "source": [
    "# manually label \n",
    "india_classes = {\n",
    "      0:'Yield',\n",
    "      1:'No proceed straight',\n",
    "      2:'One-way traffic',\n",
    "      3:'One-way traffic',\n",
    "      4:'No vehicles in both directions',\n",
    "      5:'No entry for cycles',\n",
    "      6:'No entry for goods vehicles',\n",
    "      7:'No entry for pedestrians',\n",
    "      8:'No entry for bullock carts',\n",
    "      9:'No entry for hand carts',\n",
    "      10:'No motor vehicles',\n",
    "      11:'Height limit',\n",
    "      12:'Weight limit',\n",
    "      13:'Axle weight limit',\n",
    "      14:'Length limit',\n",
    "      15:'No left turn',\n",
    "      16:'No right turn',\n",
    "      17:'No overtaking',\n",
    "      18:'Speed limit (90 km/h)',\n",
    "      19:'Speed limit (110 km/h)',\n",
    "      20:'No honking',\n",
    "      21:'No parking',\n",
    "      22:'No stopping',\n",
    "      23:'Turn left ahead',\n",
    "      24:'Turn right ahead',\n",
    "      25:'Steep descent',\n",
    "      26:'Steep ascent',\n",
    "      27:'Road narrows on the right',\n",
    "      28:'Narrow bridge',\n",
    "      29:'Unprotected quay',\n",
    "      30:'Road hump',\n",
    "      31:'Bumpy road',\n",
    "      32:'Loose gravel',\n",
    "      33:'Falling rocks',\n",
    "      34:'Wild animals crossing',\n",
    "      35:'Crossroads',\n",
    "      36:'Side road junction',\n",
    "      37:'Oblique side road junction',\n",
    "      38:'T-junction',\n",
    "      39:'Y-junction',\n",
    "      40:'Staggered side road junction',\n",
    "      41:'Roundabout mandatory',\n",
    "      42:'Railroad head (with safety barriers)',\n",
    "      43:'Unguarded level crossing ahead',\n",
    "      44:'Parking',\n",
    "      45:'Bus stop'\n",
    "}"
   ]
  },
  {
   "cell_type": "markdown",
   "metadata": {},
   "source": [
    "## Merge dataset (GTRSB + China + India)"
   ]
  },
  {
   "cell_type": "code",
   "execution_count": 33,
   "metadata": {},
   "outputs": [
    {
     "name": "stdout",
     "output_type": "stream",
     "text": [
      "Merged Dataset Shapes:\n",
      "Merged Data Shape: (152327, 30, 30, 3)\n",
      "Merged Labels Shape: (152327,)\n",
      "Class Mapping After Merging:\n",
      "0: Speed limit (20km/h)\n",
      "1: Speed limit (30km/h)\n",
      "2: Speed limit (50km/h)\n",
      "3: Speed limit (60km/h)\n",
      "4: Speed limit (70km/h)\n",
      "5: Speed limit (80km/h)\n",
      "6: End of speed limit (80km/h)\n",
      "7: Speed limit (100km/h)\n",
      "8: Speed limit (120km/h)\n",
      "9: No passing\n",
      "10: No passing veh over 3.5 tons\n",
      "11: Right-of-way at intersection\n",
      "12: Priority road\n",
      "13: Yield\n",
      "14: Stop\n",
      "15: No vehicles\n",
      "16: Veh > 3.5 tons prohibited\n",
      "17: No entry\n",
      "18: General caution\n",
      "19: Dangerous curve left\n",
      "20: Dangerous curve right\n",
      "21: Double curve\n",
      "22: Bumpy road\n",
      "23: Slippery road\n",
      "24: Road narrows on the right\n",
      "25: Road work\n",
      "26: Traffic signals\n",
      "27: Pedestrians\n",
      "28: Children crossing\n",
      "29: Bicycles crossing\n",
      "30: Beware of ice/snow\n",
      "31: Wild animals crossing\n",
      "32: End speed + passing limits\n",
      "33: Turn right ahead\n",
      "34: Turn left ahead\n",
      "35: Ahead only\n",
      "36: Go straight or right\n",
      "37: Go straight or left\n",
      "38: Keep right\n",
      "39: Keep left\n",
      "40: Roundabout mandatory\n",
      "41: End of no passing\n",
      "42: End no passing veh > 3.5 tons\n",
      "43: Speed limit (5km/h)\n",
      "44: Speed limit (15km/h)\n",
      "45: Speed limit (40km/h)\n",
      "46: No proceed straight and left turns\n",
      "47: No proceed straight and right turns\n",
      "48: No proceed straight\n",
      "49: No left turn\n",
      "50: No left and right turns\n",
      "51: No right turn\n",
      "52: No overtaking\n",
      "53: No U-turns\n",
      "54: No motor vehicles\n",
      "55: No honking\n",
      "56: End of speed limit (40km/h)\n",
      "57: End of speed limit (50km/h)\n",
      "58: Go left or right\n",
      "59: Lane for automobile\n",
      "60: Honking\n",
      "61: Bicycles only\n",
      "62: U-turn\n",
      "63: Turn left and/or right to detour\n",
      "64: Pedestrian crossing ahead\n",
      "65: Steep descent\n",
      "66: Steep ascent\n",
      "67: Tunnel ahead\n",
      "68: Side road junction ahead on the right\n",
      "69: Side road junction ahead on the left\n",
      "70: Cross-village road\n",
      "71: Double curve, with turn right first, then left\n",
      "72: Railroad crossing ahead (without safety barriers)\n",
      "73: Multiple curves\n",
      "74: Railroad head (with safety barriers)\n",
      "75: Accident area\n",
      "76: No stopping\n",
      "77: Control\n",
      "78: One-way traffic\n",
      "79: No vehicles in both directions\n",
      "80: No entry for cycles\n",
      "81: No entry for goods vehicles\n",
      "82: No entry for pedestrians\n",
      "83: No entry for bullock carts\n",
      "84: No entry for hand carts\n",
      "85: Height limit\n",
      "86: Weight limit\n",
      "87: Axle weight limit\n",
      "88: Length limit\n",
      "89: Speed limit (90 km/h)\n",
      "90: Speed limit (110 km/h)\n",
      "91: No parking\n",
      "92: Narrow bridge\n",
      "93: Unprotected quay\n",
      "94: Road hump\n",
      "95: Loose gravel\n",
      "96: Falling rocks\n",
      "97: Crossroads\n",
      "98: Side road junction\n",
      "99: Oblique side road junction\n",
      "100: T-junction\n",
      "101: Y-junction\n",
      "102: Staggered side road junction\n",
      "103: Unguarded level crossing ahead\n",
      "104: Parking\n",
      "105: Bus stop\n"
     ]
    }
   ],
   "source": [
    "merged_data, merged_labels, merged_class_mapping = merge_datasets(merged_data, merged_labels, merged_class_mapping, India_train, India_label, india_classes)\n",
    "# Display the merged dataset shapes\n",
    "print(\"Merged Dataset Shapes:\")\n",
    "print(\"Merged Data Shape:\", merged_data.shape)\n",
    "print(\"Merged Labels Shape:\", merged_labels.shape)\n",
    "\n",
    "# Display the class mapping after merging\n",
    "print(\"Class Mapping After Merging:\")\n",
    "for key, value in merged_class_mapping.items():\n",
    "    print(f\"{key}: {value}\")"
   ]
  },
  {
   "cell_type": "markdown",
   "metadata": {},
   "source": [
    "## Split Train Data"
   ]
  },
  {
   "cell_type": "code",
   "execution_count": 34,
   "metadata": {},
   "outputs": [],
   "source": [
    "# Converting labels into one hot encoding \n",
    "train_labels = to_categorical(train_labels, 43)\n",
    "test_labels = to_categorical(test_labels, 43)"
   ]
  },
  {
   "cell_type": "code",
   "execution_count": 35,
   "metadata": {},
   "outputs": [],
   "source": [
    "# Normalize pixel values to be between 0 and 1\n",
    "train_data = train_data / 255.0\n",
    "# will modify the splitting latter to create train and test set\n",
    "# Split the data into training and validation sets (80%, 20%)\n",
    "X_train, X_val, y_train, y_val = train_test_split(train_data, train_labels, test_size=0.2, random_state=42)"
   ]
  },
  {
   "cell_type": "code",
   "execution_count": 36,
   "metadata": {},
   "outputs": [
    {
     "name": "stdout",
     "output_type": "stream",
     "text": [
      "Model: \"sequential\"\n",
      "_________________________________________________________________\n",
      " Layer (type)                Output Shape              Param #   \n",
      "=================================================================\n",
      " conv2d (Conv2D)             (None, 30, 30, 32)        896       \n",
      "                                                                 \n",
      " max_pooling2d (MaxPooling2D  (None, 15, 15, 32)       0         \n",
      " )                                                               \n",
      "                                                                 \n",
      " conv2d_1 (Conv2D)           (None, 15, 15, 64)        18496     \n",
      "                                                                 \n",
      " max_pooling2d_1 (MaxPooling  (None, 7, 7, 64)         0         \n",
      " 2D)                                                             \n",
      "                                                                 \n",
      " flatten (Flatten)           (None, 3136)              0         \n",
      "                                                                 \n",
      " dense (Dense)               (None, 256)               803072    \n",
      "                                                                 \n",
      " dense_1 (Dense)             (None, 43)                11051     \n",
      "                                                                 \n",
      "=================================================================\n",
      "Total params: 833,515\n",
      "Trainable params: 833,515\n",
      "Non-trainable params: 0\n",
      "_________________________________________________________________\n"
     ]
    }
   ],
   "source": [
    "# first attempt, please modify \n",
    "model = models.Sequential([\n",
    "    layers.InputLayer(input_shape=(30, 30, 3)), \n",
    "    layers.Conv2D(32, (3, 3), activation='relu', padding='same'),\n",
    "    layers.MaxPooling2D((2, 2)),\n",
    "    layers.Conv2D(64, (3, 3), activation='relu', padding='same'),\n",
    "    layers.MaxPooling2D((2, 2)),\n",
    "    layers.Flatten(),\n",
    "    layers.Dense(256, activation='relu'),\n",
    "    layers.Dense(43, activation='softmax')  # 43 classes\n",
    "])\n",
    "model.summary()"
   ]
  },
  {
   "cell_type": "code",
   "execution_count": 37,
   "metadata": {},
   "outputs": [],
   "source": [
    "# Compile the model\n",
    "model.compile(optimizer='adam',\n",
    "              loss='categorical_crossentropy',\n",
    "              metrics=['accuracy'])"
   ]
  },
  {
   "cell_type": "code",
   "execution_count": 38,
   "metadata": {},
   "outputs": [
    {
     "name": "stdout",
     "output_type": "stream",
     "text": [
      "Epoch 1/10\n",
      "981/981 [==============================] - 10s 5ms/step - loss: 0.9398 - accuracy: 0.7385 - val_loss: 0.2021 - val_accuracy: 0.9413\n",
      "Epoch 2/10\n",
      "981/981 [==============================] - 5s 5ms/step - loss: 0.1356 - accuracy: 0.9624 - val_loss: 0.1316 - val_accuracy: 0.9623\n",
      "Epoch 3/10\n",
      "981/981 [==============================] - 5s 5ms/step - loss: 0.0687 - accuracy: 0.9815 - val_loss: 0.1466 - val_accuracy: 0.9612\n",
      "Epoch 4/10\n",
      "981/981 [==============================] - 6s 6ms/step - loss: 0.0494 - accuracy: 0.9861 - val_loss: 0.0674 - val_accuracy: 0.9804\n",
      "Epoch 5/10\n",
      "981/981 [==============================] - 5s 5ms/step - loss: 0.0262 - accuracy: 0.9921 - val_loss: 0.0613 - val_accuracy: 0.9837\n",
      "Epoch 6/10\n",
      "981/981 [==============================] - 5s 5ms/step - loss: 0.0242 - accuracy: 0.9938 - val_loss: 0.0464 - val_accuracy: 0.9879\n",
      "Epoch 7/10\n",
      "981/981 [==============================] - 5s 5ms/step - loss: 0.0263 - accuracy: 0.9917 - val_loss: 0.0441 - val_accuracy: 0.9878\n",
      "Epoch 8/10\n",
      "981/981 [==============================] - 6s 6ms/step - loss: 0.0162 - accuracy: 0.9955 - val_loss: 0.0519 - val_accuracy: 0.9856\n",
      "Epoch 9/10\n",
      "981/981 [==============================] - 6s 6ms/step - loss: 0.0116 - accuracy: 0.9969 - val_loss: 0.0313 - val_accuracy: 0.9915\n",
      "Epoch 10/10\n",
      "981/981 [==============================] - 5s 5ms/step - loss: 0.0147 - accuracy: 0.9967 - val_loss: 0.0294 - val_accuracy: 0.9927\n"
     ]
    },
    {
     "name": "stderr",
     "output_type": "stream",
     "text": [
      "WARNING:absl:Found untraced functions such as _jit_compiled_convolution_op, _jit_compiled_convolution_op while saving (showing 2 of 2). These functions will not be directly callable after loading.\n"
     ]
    },
    {
     "name": "stdout",
     "output_type": "stream",
     "text": [
      "INFO:tensorflow:Assets written to: traffic_sign_model\\assets\n"
     ]
    },
    {
     "name": "stderr",
     "output_type": "stream",
     "text": [
      "INFO:tensorflow:Assets written to: traffic_sign_model\\assets\n"
     ]
    }
   ],
   "source": [
    "# Train the model\n",
    "history = model.fit(X_train, y_train, epochs=10, validation_data=(X_val, y_val))\n",
    "model.save(\"traffic_sign_model\")"
   ]
  },
  {
   "cell_type": "code",
   "execution_count": 39,
   "metadata": {},
   "outputs": [
    {
     "data": {
      "image/png": "[encoded data removed]",
      "text/plain": [
       "<Figure size 640x480 with 1 Axes>"
      ]
     },
     "metadata": {},
     "output_type": "display_data"
    },
    {
     "data": {
      "image/png": "[encoded data removed]",
      "text/plain": [
       "<Figure size 640x480 with 1 Axes>"
      ]
     },
     "metadata": {},
     "output_type": "display_data"
    }
   ],
   "source": [
    "# plotting graphs for accuracy \n",
    "# https://github.com/deepak2233/Traffic-Signs-Recognition-using-CNN-Keras/blob/main/Model/Traffic%20Signs%20Recognition%20using%20CNN%20%26%20Keras%20with%2098%25%20Accuracy.ipynb\n",
    "plt.plot(history.history['accuracy'], label='training accuracy')\n",
    "plt.plot(history.history['val_accuracy'], label='val accuracy')\n",
    "plt.title('Accuracy')\n",
    "plt.xlabel('epochs')\n",
    "plt.ylabel('accuracy')\n",
    "plt.legend()\n",
    "plt.show()\n",
    "\n",
    "# Loss \n",
    "plt.plot(history.history['loss'], label='training loss')\n",
    "plt.plot(history.history['val_loss'], label='val loss')\n",
    "plt.title('Loss')\n",
    "plt.xlabel('epochs')\n",
    "plt.ylabel('loss')\n",
    "plt.legend()\n",
    "plt.show()"
   ]
  },
  {
   "cell_type": "markdown",
   "metadata": {},
   "source": [
    "## Evaluation"
   ]
  },
  {
   "cell_type": "code",
   "execution_count": 40,
   "metadata": {},
   "outputs": [
    {
     "name": "stdout",
     "output_type": "stream",
     "text": [
      "395/395 [==============================] - 1s 2ms/step\n",
      "Confusion Matrix:\n",
      " [[ 52   0   0 ...   0   0   0]\n",
      " [ 36 627  12 ...   0   0   0]\n",
      " [  0  13 696 ...   1   0   0]\n",
      " ...\n",
      " [  0   0   0 ...  87   0   1]\n",
      " [  0   0   0 ...   0  55   0]\n",
      " [  0   0   0 ...   0   4  81]]\n",
      "Accuracy: 0.8927949326999208\n",
      "Classification Report:\n",
      "               precision    recall  f1-score   support\n",
      "\n",
      "           0       0.55      0.87      0.67        60\n",
      "           1       0.88      0.87      0.88       720\n",
      "           2       0.87      0.93      0.90       750\n",
      "           3       0.86      0.77      0.81       450\n",
      "           4       0.88      0.91      0.89       660\n",
      "           5       0.82      0.91      0.86       630\n",
      "           6       1.00      0.72      0.84       150\n",
      "           7       0.91      0.79      0.84       450\n",
      "           8       0.85      0.82      0.83       450\n",
      "           9       0.97      0.92      0.95       480\n",
      "          10       0.97      0.94      0.95       660\n",
      "          11       0.78      0.90      0.84       420\n",
      "          12       0.97      0.92      0.95       690\n",
      "          13       0.97      0.98      0.98       720\n",
      "          14       0.95      0.98      0.96       270\n",
      "          15       0.92      0.95      0.93       210\n",
      "          16       0.99      0.99      0.99       150\n",
      "          17       0.99      0.94      0.97       360\n",
      "          18       0.84      0.84      0.84       390\n",
      "          19       0.94      0.97      0.95        60\n",
      "          20       0.57      0.99      0.73        90\n",
      "          21       0.76      0.82      0.79        90\n",
      "          22       0.99      0.95      0.97       120\n",
      "          23       0.81      0.89      0.85       150\n",
      "          24       0.77      0.68      0.72        90\n",
      "          25       0.88      0.93      0.90       480\n",
      "          26       0.84      0.80      0.82       180\n",
      "          27       0.63      0.32      0.42        60\n",
      "          28       0.74      0.85      0.79       150\n",
      "          29       0.63      0.87      0.73        90\n",
      "          30       0.93      0.17      0.29       150\n",
      "          31       0.99      0.85      0.91       270\n",
      "          32       0.60      1.00      0.75        60\n",
      "          33       1.00      0.96      0.98       210\n",
      "          34       0.98      0.99      0.99       120\n",
      "          35       0.94      0.96      0.95       390\n",
      "          36       0.92      0.96      0.94       120\n",
      "          37       0.95      0.98      0.97        60\n",
      "          38       0.95      0.96      0.95       690\n",
      "          39       0.99      0.92      0.95        90\n",
      "          40       0.89      0.97      0.93        90\n",
      "          41       0.82      0.92      0.87        60\n",
      "          42       0.87      0.90      0.89        90\n",
      "\n",
      "    accuracy                           0.89     12630\n",
      "   macro avg       0.87      0.87      0.86     12630\n",
      "weighted avg       0.90      0.89      0.89     12630\n",
      "\n"
     ]
    }
   ],
   "source": [
    "# evaluate on test set\n",
    "y_pred = model.predict(test_data)\n",
    "y_pred = np.argmax(y_pred, axis=1)\n",
    "y_true = np.argmax(test_labels, axis=1)\n",
    "\n",
    "def print_metrics(y_true, y_pred):\n",
    "    print(\"Confusion Matrix:\\n\", confusion_matrix(y_true, y_pred))\n",
    "    print(\"Accuracy:\", accuracy_score(y_true, y_pred))\n",
    "    print(\"Classification Report:\\n\", classification_report(y_true, y_pred, zero_division=1))\n",
    "\n",
    "print_metrics(y_true, y_pred)"
   ]
  },
  {
   "cell_type": "code",
   "execution_count": null,
   "metadata": {},
   "outputs": [],
   "source": []
  }
 ],
 "metadata": {
  "kernelspec": {
   "display_name": "Python 3",
   "language": "python",
   "name": "python3"
  },
  "language_info": {
   "codemirror_mode": {
    "name": "ipython",
    "version": 3
   },
   "file_extension": ".py",
   "mimetype": "text/x-python",
   "name": "python",
   "nbconvert_exporter": "python",
   "pygments_lexer": "ipython3",
   "version": "3.9.18"
  }
 },
 "nbformat": 4,
 "nbformat_minor": 2
}
